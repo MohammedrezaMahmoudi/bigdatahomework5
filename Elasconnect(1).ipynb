{
 "cells": [
  {
   "cell_type": "code",
   "execution_count": null,
   "id": "064fe3f5",
   "metadata": {},
   "outputs": [],
   "source": []
  },
  {
   "cell_type": "code",
   "execution_count": 10,
   "id": "b7241461",
   "metadata": {},
   "outputs": [],
   "source": [
    "from elasticsearch import Elasticsearch, helpers\n",
    "import csv"
   ]
  },
  {
   "cell_type": "code",
   "execution_count": 11,
   "id": "8e7389cd",
   "metadata": {},
   "outputs": [],
   "source": [
    "elas = Elasticsearch(hosts=\"http://localhost:9200\")\n"
   ]
  },
  {
   "cell_type": "code",
   "execution_count": 12,
   "id": "8716ac44",
   "metadata": {},
   "outputs": [
    {
     "name": "stderr",
     "output_type": "stream",
     "text": [
      "/tmp/ipykernel_5558/2353910976.py:1: ElasticsearchWarning: Elasticsearch built-in security features are not enabled. Without authentication, your cluster could be accessible to anyone. See https://www.elastic.co/guide/en/elasticsearch/reference/7.17/security-minimal-setup.html to enable security.\n",
      "  if not elas.ping():\n"
     ]
    }
   ],
   "source": [
    "if not elas.ping():\n",
    "    raise ValueError(\"Failed to connect to Elasticsearch!\")"
   ]
  },
  {
   "cell_type": "code",
   "execution_count": 13,
   "id": "df669f45",
   "metadata": {},
   "outputs": [
    {
     "name": "stderr",
     "output_type": "stream",
     "text": [
      "/tmp/ipykernel_5558/1155530754.py:1: ElasticsearchWarning: Elasticsearch built-in security features are not enabled. Without authentication, your cluster could be accessible to anyone. See https://www.elastic.co/guide/en/elasticsearch/reference/7.17/security-minimal-setup.html to enable security.\n",
      "  if not elas.indices.exists(index=index_name):\n"
     ]
    }
   ],
   "source": [
    "if not elas.indices.exists(index=index_name):\n",
    "    elas.indices.create(index=index_name)\n"
   ]
  },
  {
   "cell_type": "code",
   "execution_count": 14,
   "id": "f529b868",
   "metadata": {},
   "outputs": [
    {
     "name": "stderr",
     "output_type": "stream",
     "text": [
      "/tmp/ipykernel_5558/1160385566.py:2: ElasticsearchWarning: Elasticsearch built-in security features are not enabled. Without authentication, your cluster could be accessible to anyone. See https://www.elastic.co/guide/en/elasticsearch/reference/7.17/security-minimal-setup.html to enable security.\n",
      "  if not elas.indices.exists(index=index_name):\n"
     ]
    }
   ],
   "source": [
    "index_name = 'book1_info'\n",
    "if not elas.indices.exists(index=index_name):\n",
    "    elas.indices.create(index=index_name)"
   ]
  },
  {
   "cell_type": "code",
   "execution_count": 21,
   "id": "2f602e01",
   "metadata": {},
   "outputs": [
    {
     "name": "stderr",
     "output_type": "stream",
     "text": [
      "/tmp/ipykernel_5558/3623505961.py:10: ElasticsearchWarning: Elasticsearch built-in security features are not enabled. Without authentication, your cluster could be accessible to anyone. See https://www.elastic.co/guide/en/elasticsearch/reference/7.17/security-minimal-setup.html to enable security.\n",
      "  helpers.bulk(elas, generate_actions())\n"
     ]
    },
    {
     "data": {
      "text/plain": [
       "(42174, [])"
      ]
     },
     "execution_count": 21,
     "metadata": {},
     "output_type": "execute_result"
    }
   ],
   "source": [
    "def generate_actions():\n",
    "    with open('books_info.csv', 'r') as f:\n",
    "        reader = csv.DictReader(f)\n",
    "        for row in reader:\n",
    "            yield {\n",
    "                \"_index\": index_name,\n",
    "                \"_source\": row\n",
    "            }\n",
    "\n",
    "helpers.bulk(elas, generate_actions())"
   ]
  },
  {
   "cell_type": "code",
   "execution_count": null,
   "id": "cad9f326",
   "metadata": {},
   "outputs": [],
   "source": []
  },
  {
   "cell_type": "code",
   "execution_count": null,
   "id": "dcd4e0ca",
   "metadata": {},
   "outputs": [],
   "source": []
  },
  {
   "cell_type": "code",
   "execution_count": null,
   "id": "0fe60c3e",
   "metadata": {},
   "outputs": [],
   "source": []
  },
  {
   "cell_type": "code",
   "execution_count": null,
   "id": "0bc6c339",
   "metadata": {},
   "outputs": [],
   "source": []
  }
 ],
 "metadata": {
  "kernelspec": {
   "display_name": "Python 3 (ipykernel)",
   "language": "python",
   "name": "python3"
  },
  "language_info": {
   "codemirror_mode": {
    "name": "ipython",
    "version": 3
   },
   "file_extension": ".py",
   "mimetype": "text/x-python",
   "name": "python",
   "nbconvert_exporter": "python",
   "pygments_lexer": "ipython3",
   "version": "3.10.6"
  }
 },
 "nbformat": 4,
 "nbformat_minor": 5
}
