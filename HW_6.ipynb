{
  "nbformat": 4,
  "nbformat_minor": 0,
  "metadata": {
    "colab": {
      "provenance": []
    },
    "kernelspec": {
      "name": "python3",
      "display_name": "Python 3"
    },
    "language_info": {
      "name": "python"
    }
  },
  "cells": [
    {
      "cell_type": "code",
      "execution_count": 19,
      "metadata": {
        "colab": {
          "base_uri": "https://localhost:8080/"
        },
        "id": "ayNny3-mKI7n",
        "outputId": "e3113f7b-6379-46b2-e9b4-63f2545d61b8"
      },
      "outputs": [
        {
          "output_type": "stream",
          "name": "stdout",
          "text": [
            "Drive already mounted at /content/drive; to attempt to forcibly remount, call drive.mount(\"/content/drive\", force_remount=True).\n"
          ]
        }
      ],
      "source": [
        "from google.colab import drive\n",
        "drive.mount(\"/content/drive\")\n",
        "\n",
        "\n"
      ]
    },
    {
      "cell_type": "code",
      "source": [
        "!pip install pyspark\n"
      ],
      "metadata": {
        "colab": {
          "base_uri": "https://localhost:8080/"
        },
        "id": "i_CgG2o3LMdi",
        "outputId": "4eaef1f2-855c-40af-e285-d1afc0ab13d4"
      },
      "execution_count": 20,
      "outputs": [
        {
          "output_type": "stream",
          "name": "stdout",
          "text": [
            "Looking in indexes: https://pypi.org/simple, https://us-python.pkg.dev/colab-wheels/public/simple/\n",
            "Requirement already satisfied: pyspark in /usr/local/lib/python3.9/dist-packages (3.4.0)\n",
            "Requirement already satisfied: py4j==0.10.9.7 in /usr/local/lib/python3.9/dist-packages (from pyspark) (0.10.9.7)\n"
          ]
        }
      ]
    },
    {
      "cell_type": "code",
      "source": [
        "from pyspark.sql import SparkSession\n",
        "spark=SparkSession.builder.appName('my_app').getOrCreate()\n",
        "bank_copy=spark.read.csv('/content/ML_hw_dataset (1).csv',header=True,inferSchema=True)"
      ],
      "metadata": {
        "id": "dGnf_2PVLsz_"
      },
      "execution_count": 4,
      "outputs": []
    },
    {
      "cell_type": "code",
      "source": [
        "#bank_copy.select(\"age\",\"job\").show()\n",
        "#bank_copy.describe().show()\n",
        "#bank_copy.dtypes\n",
        "\n",
        "\n",
        "bank_copy.show()\n"
      ],
      "metadata": {
        "colab": {
          "base_uri": "https://localhost:8080/"
        },
        "id": "3e9XddK6OccZ",
        "outputId": "5059ddd8-d08b-461b-a64e-ebae7d1a7a0e"
      },
      "execution_count": 5,
      "outputs": [
        {
          "output_type": "stream",
          "name": "stdout",
          "text": [
            "+---+-----------+--------+-----------------+-------+-------+----+---------+-----+-----------+--------+--------+-----+--------+-----------+------------+--------------+-------------+---------+-----------+---+\n",
            "|age|        job| marital|        education|default|housing|loan|  contact|month|day_of_week|duration|campaign|pdays|previous|   poutcome|emp_var_rate|cons_price_idx|cons_conf_idx|euribor3m|nr_employed|  y|\n",
            "+---+-----------+--------+-----------------+-------+-------+----+---------+-----+-----------+--------+--------+-----+--------+-----------+------------+--------------+-------------+---------+-----------+---+\n",
            "| 44|blue-collar| married|         basic.4y|unknown|    yes|  no| cellular|  aug|        thu|     210|       1|  999|       0|nonexistent|         1.4|        93.444|        -36.1|    4.963|     5228.1|  0|\n",
            "| 53| technician| married|          unknown|     no|     no|  no| cellular|  nov|        fri|     138|       1|  999|       0|nonexistent|        -0.1|          93.2|        -42.0|    4.021|     5195.8|  0|\n",
            "| 28| management|  single|university.degree|     no|    yes|  no| cellular|  jun|        thu|     339|       3|    6|       2|    success|        -1.7|        94.055|        -39.8|    0.729|     4991.6|  1|\n",
            "| 39|   services| married|      high.school|     no|     no|  no| cellular|  apr|        fri|     185|       2|  999|       0|nonexistent|        -1.8|        93.075|        -47.1|    1.405|     5099.1|  0|\n",
            "| 55|    retired| married|         basic.4y|     no|    yes|  no| cellular|  aug|        fri|     137|       1|    3|       1|    success|        -2.9|        92.201|        -31.4|    0.869|     5076.2|  1|\n",
            "| 30| management|divorced|         basic.4y|     no|    yes|  no| cellular|  jul|        tue|      68|       8|  999|       0|nonexistent|         1.4|        93.918|        -42.7|    4.961|     5228.1|  0|\n",
            "| 37|blue-collar| married|         basic.4y|     no|    yes|  no| cellular|  may|        thu|     204|       1|  999|       0|nonexistent|        -1.8|        92.893|        -46.2|    1.327|     5099.1|  0|\n",
            "| 39|blue-collar|divorced|         basic.9y|     no|    yes|  no| cellular|  may|        fri|     191|       1|  999|       0|nonexistent|        -1.8|        92.893|        -46.2|    1.313|     5099.1|  0|\n",
            "| 36|     admin.| married|university.degree|     no|     no|  no| cellular|  jun|        mon|     174|       1|    3|       1|    success|        -2.9|        92.963|        -40.8|    1.266|     5076.2|  1|\n",
            "| 27|blue-collar|  single|         basic.4y|     no|    yes|  no| cellular|  apr|        thu|     191|       2|  999|       1|    failure|        -1.8|        93.075|        -47.1|     1.41|     5099.1|  0|\n",
            "| 34|  housemaid|  single|university.degree|     no|     no|  no|telephone|  may|        fri|      62|       2|  999|       0|nonexistent|         1.1|        93.994|        -36.4|    4.864|     5191.0|  0|\n",
            "| 41| management| married|university.degree|     no|    yes|  no| cellular|  aug|        thu|     789|       1|  999|       0|nonexistent|         1.4|        93.444|        -36.1|    4.964|     5228.1|  0|\n",
            "| 55| management| married|university.degree|     no|     no|  no| cellular|  aug|        mon|     372|       3|  999|       0|nonexistent|         1.4|        93.444|        -36.1|    4.965|     5228.1|  1|\n",
            "| 33|   services|divorced|      high.school|     no|    yes|  no| cellular|  may|        tue|      75|       5|  999|       0|nonexistent|        -1.8|        92.893|        -46.2|    1.291|     5099.1|  0|\n",
            "| 26|     admin.| married|      high.school|     no|     no| yes|telephone|  jun|        mon|    1021|       1|  999|       0|nonexistent|         1.4|        94.465|        -41.8|     4.96|     5228.1|  0|\n",
            "| 52|   services| married|      high.school|unknown|    yes|  no| cellular|  jul|        thu|     117|       2|  999|       0|nonexistent|         1.4|        93.918|        -42.7|    4.962|     5228.1|  0|\n",
            "| 35|   services| married|      high.school|     no|     no|  no| cellular|  apr|        thu|    1034|       2|  999|       0|nonexistent|        -1.8|        93.075|        -47.1|    1.365|     5099.1|  1|\n",
            "| 27|     admin.|  single|university.degree|     no|     no|  no|telephone|  oct|        tue|     540|       1|  999|       0|nonexistent|        -0.1|        93.798|        -40.4|     4.86|     5195.8|  1|\n",
            "| 28|blue-collar| married|         basic.9y|unknown|     no|  no|telephone|  may|        thu|     140|       1|  999|       0|nonexistent|         1.1|        93.994|        -36.4|     4.86|     5191.0|  0|\n",
            "| 26| unemployed|  single|         basic.9y|     no|    yes| yes| cellular|  jul|        mon|     104|       4|  999|       0|nonexistent|         1.4|        93.918|        -42.7|     4.96|     5228.1|  0|\n",
            "+---+-----------+--------+-----------------+-------+-------+----+---------+-----+-----------+--------+--------+-----+--------+-----------+------------+--------------+-------------+---------+-----------+---+\n",
            "only showing top 20 rows\n",
            "\n"
          ]
        }
      ]
    },
    {
      "cell_type": "markdown",
      "source": [
        "\n",
        "missing value"
      ],
      "metadata": {
        "id": "7Ew53MrFfdhj"
      }
    },
    {
      "cell_type": "code",
      "source": [
        "#Null & NAN\n",
        "from pyspark.sql.functions import isnan,when,count,col\n",
        "\n",
        "# ساخت یک دیکشنری خالی برای نگه داری تعداد مقادیر نا معتبر هر ستون\n",
        "null_counts = {}\n",
        "\n",
        "# بررسی تمام ستون‌های دیتافریم\n",
        "for i in bank_copy.columns:\n",
        "    # شمارش تعداد مقادیر نا معتبر در هر ستون و ذخیره آن در دیکشنری\n",
        "    null_counts[i] = bank_copy.filter(col(i).isNull() | isnan(i)).count()\n",
        "\n",
        "# چاپ دیکشنری حاوی تعداد مقادیر نا معتبر هر ستون\n",
        "print(null_counts)"
      ],
      "metadata": {
        "colab": {
          "base_uri": "https://localhost:8080/"
        },
        "id": "L7xTBYxqQN4L",
        "outputId": "a48e7fef-cc08-4689-ba1c-729e243d53ab"
      },
      "execution_count": 6,
      "outputs": [
        {
          "output_type": "stream",
          "name": "stdout",
          "text": [
            "{'age': 0, 'job': 0, 'marital': 0, 'education': 0, 'default': 0, 'housing': 0, 'loan': 0, 'contact': 0, 'month': 0, 'day_of_week': 0, 'duration': 0, 'campaign': 0, 'pdays': 0, 'previous': 0, 'poutcome': 0, 'emp_var_rate': 0, 'cons_price_idx': 0, 'cons_conf_idx': 0, 'euribor3m': 0, 'nr_employed': 0, 'y': 0}\n"
          ]
        }
      ]
    },
    {
      "cell_type": "markdown",
      "source": [
        "ما 4118 نمونه و 21 ویژگی داریم. اطلاعات می گوید هیچ مقدار تهی وجود ندارد. \n"
      ],
      "metadata": {
        "id": "jH3rnwls73tR"
      }
    },
    {
      "cell_type": "markdown",
      "source": [
        "************************************************************************"
      ],
      "metadata": {
        "id": "2Z2MqDLof4nY"
      }
    },
    {
      "cell_type": "markdown",
      "source": [
        "outlier    ==> روش IQR"
      ],
      "metadata": {
        "id": "-OZPazpCf2Bl"
      }
    },
    {
      "cell_type": "code",
      "source": [
        "\"\"\"from pyspark.sql.functions import col\n",
        "\n",
        "numeric_cols = [c for c, t in bank_copy.dtypes if t in ['int', 'double', 'float', 'long']]\n",
        "\n",
        "# محاسبه‌ی محدوده‌ی IQR\n",
        "for col_name in numeric_cols:\n",
        "    quantiles = bank_copy.approxQuantile(col_name, [0.25, 0.75], 0.05)\n",
        "    q1 = quantiles[0]\n",
        "    q3 = quantiles[1]\n",
        "    iqr = q3 - q1\n",
        "\n",
        "# محاسبه‌ی مقدار حد پایین و حد بالای محدوده‌ی IQR\n",
        "lower_bound = q1 - 1.5 * iqr\n",
        "upper_bound = q3 + 1.5 * iqr\n",
        "\n",
        "# تشخیص داده‌هایی که خارج از محدوده‌ی IQR هستند\n",
        "#outliers = bank_copy.filter((col(col_name) < lower_bound) | (col(col_name) > upper_bound))\n",
        "#outliers.show()\n",
        "\n",
        "\n",
        "bank_copy = bank_copy.filter((col(col_name) >= lower_bound) & (col(col_name) <= upper_bound))\n",
        "bank_copy.show()\"\"\""
      ],
      "metadata": {
        "colab": {
          "base_uri": "https://localhost:8080/",
          "height": 122
        },
        "id": "-J96XIwdRCPY",
        "outputId": "994d1a57-2390-44bd-91dc-d0af45cc4ad1"
      },
      "execution_count": 7,
      "outputs": [
        {
          "output_type": "execute_result",
          "data": {
            "text/plain": [
              "\"from pyspark.sql.functions import col\\n\\nnumeric_cols = [c for c, t in bank_copy.dtypes if t in ['int', 'double', 'float', 'long']]\\n\\n# محاسبه\\u200cی محدوده\\u200cی IQR\\nfor col_name in numeric_cols:\\n    quantiles = bank_copy.approxQuantile(col_name, [0.25, 0.75], 0.05)\\n    q1 = quantiles[0]\\n    q3 = quantiles[1]\\n    iqr = q3 - q1\\n\\n# محاسبه\\u200cی مقدار حد پایین و حد بالای محدوده\\u200cی IQR\\nlower_bound = q1 - 1.5 * iqr\\nupper_bound = q3 + 1.5 * iqr\\n\\n# تشخیص داده\\u200cهایی که خارج از محدوده\\u200cی IQR هستند\\n#outliers = bank_copy.filter((col(col_name) < lower_bound) | (col(col_name) > upper_bound))\\n#outliers.show()\\n\\n\\nbank_copy = bank_copy.filter((col(col_name) >= lower_bound) & (col(col_name) <= upper_bound))\\nbank_copy.show()\""
            ],
            "application/vnd.google.colaboratory.intrinsic+json": {
              "type": "string"
            }
          },
          "metadata": {},
          "execution_count": 7
        }
      ]
    },
    {
      "cell_type": "code",
      "source": [
        "bank_copy.show()"
      ],
      "metadata": {
        "colab": {
          "base_uri": "https://localhost:8080/"
        },
        "id": "a4p9vQegi8aQ",
        "outputId": "61dba782-6e24-412f-d050-8451f29318a4"
      },
      "execution_count": 8,
      "outputs": [
        {
          "output_type": "stream",
          "name": "stdout",
          "text": [
            "+---+-----------+--------+-----------------+-------+-------+----+---------+-----+-----------+--------+--------+-----+--------+-----------+------------+--------------+-------------+---------+-----------+---+\n",
            "|age|        job| marital|        education|default|housing|loan|  contact|month|day_of_week|duration|campaign|pdays|previous|   poutcome|emp_var_rate|cons_price_idx|cons_conf_idx|euribor3m|nr_employed|  y|\n",
            "+---+-----------+--------+-----------------+-------+-------+----+---------+-----+-----------+--------+--------+-----+--------+-----------+------------+--------------+-------------+---------+-----------+---+\n",
            "| 44|blue-collar| married|         basic.4y|unknown|    yes|  no| cellular|  aug|        thu|     210|       1|  999|       0|nonexistent|         1.4|        93.444|        -36.1|    4.963|     5228.1|  0|\n",
            "| 53| technician| married|          unknown|     no|     no|  no| cellular|  nov|        fri|     138|       1|  999|       0|nonexistent|        -0.1|          93.2|        -42.0|    4.021|     5195.8|  0|\n",
            "| 28| management|  single|university.degree|     no|    yes|  no| cellular|  jun|        thu|     339|       3|    6|       2|    success|        -1.7|        94.055|        -39.8|    0.729|     4991.6|  1|\n",
            "| 39|   services| married|      high.school|     no|     no|  no| cellular|  apr|        fri|     185|       2|  999|       0|nonexistent|        -1.8|        93.075|        -47.1|    1.405|     5099.1|  0|\n",
            "| 55|    retired| married|         basic.4y|     no|    yes|  no| cellular|  aug|        fri|     137|       1|    3|       1|    success|        -2.9|        92.201|        -31.4|    0.869|     5076.2|  1|\n",
            "| 30| management|divorced|         basic.4y|     no|    yes|  no| cellular|  jul|        tue|      68|       8|  999|       0|nonexistent|         1.4|        93.918|        -42.7|    4.961|     5228.1|  0|\n",
            "| 37|blue-collar| married|         basic.4y|     no|    yes|  no| cellular|  may|        thu|     204|       1|  999|       0|nonexistent|        -1.8|        92.893|        -46.2|    1.327|     5099.1|  0|\n",
            "| 39|blue-collar|divorced|         basic.9y|     no|    yes|  no| cellular|  may|        fri|     191|       1|  999|       0|nonexistent|        -1.8|        92.893|        -46.2|    1.313|     5099.1|  0|\n",
            "| 36|     admin.| married|university.degree|     no|     no|  no| cellular|  jun|        mon|     174|       1|    3|       1|    success|        -2.9|        92.963|        -40.8|    1.266|     5076.2|  1|\n",
            "| 27|blue-collar|  single|         basic.4y|     no|    yes|  no| cellular|  apr|        thu|     191|       2|  999|       1|    failure|        -1.8|        93.075|        -47.1|     1.41|     5099.1|  0|\n",
            "| 34|  housemaid|  single|university.degree|     no|     no|  no|telephone|  may|        fri|      62|       2|  999|       0|nonexistent|         1.1|        93.994|        -36.4|    4.864|     5191.0|  0|\n",
            "| 41| management| married|university.degree|     no|    yes|  no| cellular|  aug|        thu|     789|       1|  999|       0|nonexistent|         1.4|        93.444|        -36.1|    4.964|     5228.1|  0|\n",
            "| 55| management| married|university.degree|     no|     no|  no| cellular|  aug|        mon|     372|       3|  999|       0|nonexistent|         1.4|        93.444|        -36.1|    4.965|     5228.1|  1|\n",
            "| 33|   services|divorced|      high.school|     no|    yes|  no| cellular|  may|        tue|      75|       5|  999|       0|nonexistent|        -1.8|        92.893|        -46.2|    1.291|     5099.1|  0|\n",
            "| 26|     admin.| married|      high.school|     no|     no| yes|telephone|  jun|        mon|    1021|       1|  999|       0|nonexistent|         1.4|        94.465|        -41.8|     4.96|     5228.1|  0|\n",
            "| 52|   services| married|      high.school|unknown|    yes|  no| cellular|  jul|        thu|     117|       2|  999|       0|nonexistent|         1.4|        93.918|        -42.7|    4.962|     5228.1|  0|\n",
            "| 35|   services| married|      high.school|     no|     no|  no| cellular|  apr|        thu|    1034|       2|  999|       0|nonexistent|        -1.8|        93.075|        -47.1|    1.365|     5099.1|  1|\n",
            "| 27|     admin.|  single|university.degree|     no|     no|  no|telephone|  oct|        tue|     540|       1|  999|       0|nonexistent|        -0.1|        93.798|        -40.4|     4.86|     5195.8|  1|\n",
            "| 28|blue-collar| married|         basic.9y|unknown|     no|  no|telephone|  may|        thu|     140|       1|  999|       0|nonexistent|         1.1|        93.994|        -36.4|     4.86|     5191.0|  0|\n",
            "| 26| unemployed|  single|         basic.9y|     no|    yes| yes| cellular|  jul|        mon|     104|       4|  999|       0|nonexistent|         1.4|        93.918|        -42.7|     4.96|     5228.1|  0|\n",
            "+---+-----------+--------+-----------------+-------+-------+----+---------+-----+-----------+--------+--------+-----+--------+-----------+------------+--------------+-------------+---------+-----------+---+\n",
            "only showing top 20 rows\n",
            "\n"
          ]
        }
      ]
    },
    {
      "cell_type": "markdown",
      "source": [
        "************************************************************************\n"
      ],
      "metadata": {
        "id": "kdmp8IZngFAH"
      }
    },
    {
      "cell_type": "markdown",
      "source": [
        "StringIndexer"
      ],
      "metadata": {
        "id": "Pv32rVldj2r4"
      }
    },
    {
      "cell_type": "code",
      "source": [
        "from pyspark.ml.feature import StringIndexer\n",
        "\n",
        "# تعریف لیستی از نام ستون‌های مورد نظر\n",
        "columns_to_index = [\"job\", \"marital\",\"education\",'default','housing','loan','contact','month','day_of_week','poutcome']\n",
        "# ایجاد یک شی از کلاس StringIndexer برای هر ستون و اعمال آن بر روی داده\n",
        "for column in columns_to_index:\n",
        "    indexer = StringIndexer(inputCol=column, outputCol=column+\"_N\")\n",
        "    bank_copy = indexer.fit(bank_copy).transform(bank_copy)\n",
        "\n",
        "# نمایش دیتافریم جدید\n",
        "bank_copy.show()"
      ],
      "metadata": {
        "colab": {
          "base_uri": "https://localhost:8080/"
        },
        "id": "fPT9tKqDjAAo",
        "outputId": "ae65d5a9-b201-4b66-b85c-1202e2e75a41"
      },
      "execution_count": 9,
      "outputs": [
        {
          "output_type": "stream",
          "name": "stdout",
          "text": [
            "+---+-----------+--------+-----------------+-------+-------+----+---------+-----+-----------+--------+--------+-----+--------+-----------+------------+--------------+-------------+---------+-----------+---+-----+---------+-----------+---------+---------+------+---------+-------+-------------+----------+\n",
            "|age|        job| marital|        education|default|housing|loan|  contact|month|day_of_week|duration|campaign|pdays|previous|   poutcome|emp_var_rate|cons_price_idx|cons_conf_idx|euribor3m|nr_employed|  y|job_N|marital_N|education_N|default_N|housing_N|loan_N|contact_N|month_N|day_of_week_N|poutcome_N|\n",
            "+---+-----------+--------+-----------------+-------+-------+----+---------+-----+-----------+--------+--------+-----+--------+-----------+------------+--------------+-------------+---------+-----------+---+-----+---------+-----------+---------+---------+------+---------+-------+-------------+----------+\n",
            "| 44|blue-collar| married|         basic.4y|unknown|    yes|  no| cellular|  aug|        thu|     210|       1|  999|       0|nonexistent|         1.4|        93.444|        -36.1|    4.963|     5228.1|  0|  1.0|      0.0|        4.0|      1.0|      0.0|   0.0|      0.0|    2.0|          0.0|       0.0|\n",
            "| 53| technician| married|          unknown|     no|     no|  no| cellular|  nov|        fri|     138|       1|  999|       0|nonexistent|        -0.1|          93.2|        -42.0|    4.021|     5195.8|  0|  2.0|      0.0|        6.0|      0.0|      1.0|   0.0|      0.0|    4.0|          4.0|       0.0|\n",
            "| 28| management|  single|university.degree|     no|    yes|  no| cellular|  jun|        thu|     339|       3|    6|       2|    success|        -1.7|        94.055|        -39.8|    0.729|     4991.6|  1|  4.0|      1.0|        0.0|      0.0|      0.0|   0.0|      0.0|    3.0|          0.0|       2.0|\n",
            "| 39|   services| married|      high.school|     no|     no|  no| cellular|  apr|        fri|     185|       2|  999|       0|nonexistent|        -1.8|        93.075|        -47.1|    1.405|     5099.1|  0|  3.0|      0.0|        1.0|      0.0|      1.0|   0.0|      0.0|    5.0|          4.0|       0.0|\n",
            "| 55|    retired| married|         basic.4y|     no|    yes|  no| cellular|  aug|        fri|     137|       1|    3|       1|    success|        -2.9|        92.201|        -31.4|    0.869|     5076.2|  1|  5.0|      0.0|        4.0|      0.0|      0.0|   0.0|      0.0|    2.0|          4.0|       2.0|\n",
            "| 30| management|divorced|         basic.4y|     no|    yes|  no| cellular|  jul|        tue|      68|       8|  999|       0|nonexistent|         1.4|        93.918|        -42.7|    4.961|     5228.1|  0|  4.0|      2.0|        4.0|      0.0|      0.0|   0.0|      0.0|    1.0|          3.0|       0.0|\n",
            "| 37|blue-collar| married|         basic.4y|     no|    yes|  no| cellular|  may|        thu|     204|       1|  999|       0|nonexistent|        -1.8|        92.893|        -46.2|    1.327|     5099.1|  0|  1.0|      0.0|        4.0|      0.0|      0.0|   0.0|      0.0|    0.0|          0.0|       0.0|\n",
            "| 39|blue-collar|divorced|         basic.9y|     no|    yes|  no| cellular|  may|        fri|     191|       1|  999|       0|nonexistent|        -1.8|        92.893|        -46.2|    1.313|     5099.1|  0|  1.0|      2.0|        2.0|      0.0|      0.0|   0.0|      0.0|    0.0|          4.0|       0.0|\n",
            "| 36|     admin.| married|university.degree|     no|     no|  no| cellular|  jun|        mon|     174|       1|    3|       1|    success|        -2.9|        92.963|        -40.8|    1.266|     5076.2|  1|  0.0|      0.0|        0.0|      0.0|      1.0|   0.0|      0.0|    3.0|          1.0|       2.0|\n",
            "| 27|blue-collar|  single|         basic.4y|     no|    yes|  no| cellular|  apr|        thu|     191|       2|  999|       1|    failure|        -1.8|        93.075|        -47.1|     1.41|     5099.1|  0|  1.0|      1.0|        4.0|      0.0|      0.0|   0.0|      0.0|    5.0|          0.0|       1.0|\n",
            "| 34|  housemaid|  single|university.degree|     no|     no|  no|telephone|  may|        fri|      62|       2|  999|       0|nonexistent|         1.1|        93.994|        -36.4|    4.864|     5191.0|  0|  8.0|      1.0|        0.0|      0.0|      1.0|   0.0|      1.0|    0.0|          4.0|       0.0|\n",
            "| 41| management| married|university.degree|     no|    yes|  no| cellular|  aug|        thu|     789|       1|  999|       0|nonexistent|         1.4|        93.444|        -36.1|    4.964|     5228.1|  0|  4.0|      0.0|        0.0|      0.0|      0.0|   0.0|      0.0|    2.0|          0.0|       0.0|\n",
            "| 55| management| married|university.degree|     no|     no|  no| cellular|  aug|        mon|     372|       3|  999|       0|nonexistent|         1.4|        93.444|        -36.1|    4.965|     5228.1|  1|  4.0|      0.0|        0.0|      0.0|      1.0|   0.0|      0.0|    2.0|          1.0|       0.0|\n",
            "| 33|   services|divorced|      high.school|     no|    yes|  no| cellular|  may|        tue|      75|       5|  999|       0|nonexistent|        -1.8|        92.893|        -46.2|    1.291|     5099.1|  0|  3.0|      2.0|        1.0|      0.0|      0.0|   0.0|      0.0|    0.0|          3.0|       0.0|\n",
            "| 26|     admin.| married|      high.school|     no|     no| yes|telephone|  jun|        mon|    1021|       1|  999|       0|nonexistent|         1.4|        94.465|        -41.8|     4.96|     5228.1|  0|  0.0|      0.0|        1.0|      0.0|      1.0|   1.0|      1.0|    3.0|          1.0|       0.0|\n",
            "| 52|   services| married|      high.school|unknown|    yes|  no| cellular|  jul|        thu|     117|       2|  999|       0|nonexistent|         1.4|        93.918|        -42.7|    4.962|     5228.1|  0|  3.0|      0.0|        1.0|      1.0|      0.0|   0.0|      0.0|    1.0|          0.0|       0.0|\n",
            "| 35|   services| married|      high.school|     no|     no|  no| cellular|  apr|        thu|    1034|       2|  999|       0|nonexistent|        -1.8|        93.075|        -47.1|    1.365|     5099.1|  1|  3.0|      0.0|        1.0|      0.0|      1.0|   0.0|      0.0|    5.0|          0.0|       0.0|\n",
            "| 27|     admin.|  single|university.degree|     no|     no|  no|telephone|  oct|        tue|     540|       1|  999|       0|nonexistent|        -0.1|        93.798|        -40.4|     4.86|     5195.8|  1|  0.0|      1.0|        0.0|      0.0|      1.0|   0.0|      1.0|    6.0|          3.0|       0.0|\n",
            "| 28|blue-collar| married|         basic.9y|unknown|     no|  no|telephone|  may|        thu|     140|       1|  999|       0|nonexistent|         1.1|        93.994|        -36.4|     4.86|     5191.0|  0|  1.0|      0.0|        2.0|      1.0|      1.0|   0.0|      1.0|    0.0|          0.0|       0.0|\n",
            "| 26| unemployed|  single|         basic.9y|     no|    yes| yes| cellular|  jul|        mon|     104|       4|  999|       0|nonexistent|         1.4|        93.918|        -42.7|     4.96|     5228.1|  0|  9.0|      1.0|        2.0|      0.0|      0.0|   1.0|      0.0|    1.0|          1.0|       0.0|\n",
            "+---+-----------+--------+-----------------+-------+-------+----+---------+-----+-----------+--------+--------+-----+--------+-----------+------------+--------------+-------------+---------+-----------+---+-----+---------+-----------+---------+---------+------+---------+-------+-------------+----------+\n",
            "only showing top 20 rows\n",
            "\n"
          ]
        }
      ]
    },
    {
      "cell_type": "markdown",
      "source": [
        "correlation"
      ],
      "metadata": {
        "id": "nJHL6GK_kDQw"
      }
    },
    {
      "cell_type": "code",
      "source": [
        "from pyspark.sql.functions import corr\n",
        "numeric_cols=[\"age\",\"duration\",\"campaign\",\"pdays\",\"previous\",\"emp_var_rate\",\"cons_price_idx\",\"cons_conf_idx\",\"euribor3m\",\"nr_employed\",'job_N','marital_N','education_N','default_N','housing_N','loan_N','contact_N','month_N','day_of_week_N','poutcome_N','y']\n",
        "l=[]\n",
        "for col in numeric_cols:\n",
        "    correlation = bank_copy.select(corr(\"y\", col)).collect()[0][0]\n",
        "    if correlation is not None and (correlation>0.1 or correlation<-0.1):\n",
        "        l.append(col)\n",
        "        print(f\"The correlation between 'label' and {col} is {correlation}\")\n",
        "print(l)\n",
        "\n"
      ],
      "metadata": {
        "colab": {
          "base_uri": "https://localhost:8080/"
        },
        "id": "cxiwVp15j3wX",
        "outputId": "556b3b61-678a-4701-c77c-73a3e18741b7"
      },
      "execution_count": 10,
      "outputs": [
        {
          "output_type": "stream",
          "name": "stdout",
          "text": [
            "The correlation between 'label' and duration is 0.4052738006793088\n",
            "The correlation between 'label' and pdays is -0.32491447761663295\n",
            "The correlation between 'label' and previous is 0.23018100321659\n",
            "The correlation between 'label' and emp_var_rate is -0.2983344261593787\n",
            "The correlation between 'label' and cons_price_idx is -0.13621121281925005\n",
            "The correlation between 'label' and euribor3m is -0.3077714039407199\n",
            "The correlation between 'label' and nr_employed is -0.35467829592143435\n",
            "The correlation between 'label' and contact_N is -0.14477305571200028\n",
            "The correlation between 'label' and month_N is 0.22268368982305878\n",
            "The correlation between 'label' and poutcome_N is 0.2703731053271902\n",
            "The correlation between 'label' and y is 1.0\n",
            "['duration', 'pdays', 'previous', 'emp_var_rate', 'cons_price_idx', 'euribor3m', 'nr_employed', 'contact_N', 'month_N', 'poutcome_N', 'y']\n"
          ]
        }
      ]
    },
    {
      "cell_type": "code",
      "source": [
        "R=['duration', 'pdays', 'previous', 'emp_var_rate', 'cons_price_idx', 'euribor3m', 'nr_employed', 'contact_N', 'month_N', 'poutcome_N']"
      ],
      "metadata": {
        "id": "nPreDAPrkETF"
      },
      "execution_count": 11,
      "outputs": []
    },
    {
      "cell_type": "code",
      "source": [
        "bank_copy.select(R).show()\n"
      ],
      "metadata": {
        "id": "EEcFRGcHkPlY",
        "colab": {
          "base_uri": "https://localhost:8080/"
        },
        "outputId": "c616bbaa-b12d-4566-fe50-19d133f16887"
      },
      "execution_count": 12,
      "outputs": [
        {
          "output_type": "stream",
          "name": "stdout",
          "text": [
            "+--------+-----+--------+------------+--------------+---------+-----------+---------+-------+----------+\n",
            "|duration|pdays|previous|emp_var_rate|cons_price_idx|euribor3m|nr_employed|contact_N|month_N|poutcome_N|\n",
            "+--------+-----+--------+------------+--------------+---------+-----------+---------+-------+----------+\n",
            "|     210|  999|       0|         1.4|        93.444|    4.963|     5228.1|      0.0|    2.0|       0.0|\n",
            "|     138|  999|       0|        -0.1|          93.2|    4.021|     5195.8|      0.0|    4.0|       0.0|\n",
            "|     339|    6|       2|        -1.7|        94.055|    0.729|     4991.6|      0.0|    3.0|       2.0|\n",
            "|     185|  999|       0|        -1.8|        93.075|    1.405|     5099.1|      0.0|    5.0|       0.0|\n",
            "|     137|    3|       1|        -2.9|        92.201|    0.869|     5076.2|      0.0|    2.0|       2.0|\n",
            "|      68|  999|       0|         1.4|        93.918|    4.961|     5228.1|      0.0|    1.0|       0.0|\n",
            "|     204|  999|       0|        -1.8|        92.893|    1.327|     5099.1|      0.0|    0.0|       0.0|\n",
            "|     191|  999|       0|        -1.8|        92.893|    1.313|     5099.1|      0.0|    0.0|       0.0|\n",
            "|     174|    3|       1|        -2.9|        92.963|    1.266|     5076.2|      0.0|    3.0|       2.0|\n",
            "|     191|  999|       1|        -1.8|        93.075|     1.41|     5099.1|      0.0|    5.0|       1.0|\n",
            "|      62|  999|       0|         1.1|        93.994|    4.864|     5191.0|      1.0|    0.0|       0.0|\n",
            "|     789|  999|       0|         1.4|        93.444|    4.964|     5228.1|      0.0|    2.0|       0.0|\n",
            "|     372|  999|       0|         1.4|        93.444|    4.965|     5228.1|      0.0|    2.0|       0.0|\n",
            "|      75|  999|       0|        -1.8|        92.893|    1.291|     5099.1|      0.0|    0.0|       0.0|\n",
            "|    1021|  999|       0|         1.4|        94.465|     4.96|     5228.1|      1.0|    3.0|       0.0|\n",
            "|     117|  999|       0|         1.4|        93.918|    4.962|     5228.1|      0.0|    1.0|       0.0|\n",
            "|    1034|  999|       0|        -1.8|        93.075|    1.365|     5099.1|      0.0|    5.0|       0.0|\n",
            "|     540|  999|       0|        -0.1|        93.798|     4.86|     5195.8|      1.0|    6.0|       0.0|\n",
            "|     140|  999|       0|         1.1|        93.994|     4.86|     5191.0|      1.0|    0.0|       0.0|\n",
            "|     104|  999|       0|         1.4|        93.918|     4.96|     5228.1|      0.0|    1.0|       0.0|\n",
            "+--------+-----+--------+------------+--------------+---------+-----------+---------+-------+----------+\n",
            "only showing top 20 rows\n",
            "\n"
          ]
        }
      ]
    },
    {
      "cell_type": "markdown",
      "source": [
        "VectorAssembler"
      ],
      "metadata": {
        "id": "KELB0Rw1kWZY"
      }
    },
    {
      "cell_type": "code",
      "source": [
        "from pyspark.ml.feature import VectorAssembler\n",
        "\n",
        "# ستون‌هایی که باید وارد VectorAssembler شوند\n",
        "inputCols = R\n",
        "\n",
        "# نام ستونی که در خروجی VectorAssembler قرار میگیرد\n",
        "outputCol = \"assembled_features_new\"\n",
        "\n",
        "# ساخت یک شی از کلاس VectorAssembler\n",
        "assembler = VectorAssembler(inputCols=inputCols, outputCol=outputCol)\n",
        "\n",
        "# تبدیل داده‌های ورودی به فرمت VectorAssembler\n",
        "bank_copy = assembler.transform(bank_copy)\n",
        "\n",
        "# نمایش دیتافریم جدید\n",
        "#bank_copy.select(features).show()\n",
        "bank_copy.show()"
      ],
      "metadata": {
        "id": "NMGWecYikQec",
        "colab": {
          "base_uri": "https://localhost:8080/"
        },
        "outputId": "40661e7e-ebdc-4bb9-d4ce-b4b80b21160c"
      },
      "execution_count": 13,
      "outputs": [
        {
          "output_type": "stream",
          "name": "stdout",
          "text": [
            "+---+-----------+--------+-----------------+-------+-------+----+---------+-----+-----------+--------+--------+-----+--------+-----------+------------+--------------+-------------+---------+-----------+---+-----+---------+-----------+---------+---------+------+---------+-------+-------------+----------+----------------------+\n",
            "|age|        job| marital|        education|default|housing|loan|  contact|month|day_of_week|duration|campaign|pdays|previous|   poutcome|emp_var_rate|cons_price_idx|cons_conf_idx|euribor3m|nr_employed|  y|job_N|marital_N|education_N|default_N|housing_N|loan_N|contact_N|month_N|day_of_week_N|poutcome_N|assembled_features_new|\n",
            "+---+-----------+--------+-----------------+-------+-------+----+---------+-----+-----------+--------+--------+-----+--------+-----------+------------+--------------+-------------+---------+-----------+---+-----+---------+-----------+---------+---------+------+---------+-------+-------------+----------+----------------------+\n",
            "| 44|blue-collar| married|         basic.4y|unknown|    yes|  no| cellular|  aug|        thu|     210|       1|  999|       0|nonexistent|         1.4|        93.444|        -36.1|    4.963|     5228.1|  0|  1.0|      0.0|        4.0|      1.0|      0.0|   0.0|      0.0|    2.0|          0.0|       0.0|  [210.0,999.0,0.0,...|\n",
            "| 53| technician| married|          unknown|     no|     no|  no| cellular|  nov|        fri|     138|       1|  999|       0|nonexistent|        -0.1|          93.2|        -42.0|    4.021|     5195.8|  0|  2.0|      0.0|        6.0|      0.0|      1.0|   0.0|      0.0|    4.0|          4.0|       0.0|  [138.0,999.0,0.0,...|\n",
            "| 28| management|  single|university.degree|     no|    yes|  no| cellular|  jun|        thu|     339|       3|    6|       2|    success|        -1.7|        94.055|        -39.8|    0.729|     4991.6|  1|  4.0|      1.0|        0.0|      0.0|      0.0|   0.0|      0.0|    3.0|          0.0|       2.0|  [339.0,6.0,2.0,-1...|\n",
            "| 39|   services| married|      high.school|     no|     no|  no| cellular|  apr|        fri|     185|       2|  999|       0|nonexistent|        -1.8|        93.075|        -47.1|    1.405|     5099.1|  0|  3.0|      0.0|        1.0|      0.0|      1.0|   0.0|      0.0|    5.0|          4.0|       0.0|  [185.0,999.0,0.0,...|\n",
            "| 55|    retired| married|         basic.4y|     no|    yes|  no| cellular|  aug|        fri|     137|       1|    3|       1|    success|        -2.9|        92.201|        -31.4|    0.869|     5076.2|  1|  5.0|      0.0|        4.0|      0.0|      0.0|   0.0|      0.0|    2.0|          4.0|       2.0|  [137.0,3.0,1.0,-2...|\n",
            "| 30| management|divorced|         basic.4y|     no|    yes|  no| cellular|  jul|        tue|      68|       8|  999|       0|nonexistent|         1.4|        93.918|        -42.7|    4.961|     5228.1|  0|  4.0|      2.0|        4.0|      0.0|      0.0|   0.0|      0.0|    1.0|          3.0|       0.0|  [68.0,999.0,0.0,1...|\n",
            "| 37|blue-collar| married|         basic.4y|     no|    yes|  no| cellular|  may|        thu|     204|       1|  999|       0|nonexistent|        -1.8|        92.893|        -46.2|    1.327|     5099.1|  0|  1.0|      0.0|        4.0|      0.0|      0.0|   0.0|      0.0|    0.0|          0.0|       0.0|  [204.0,999.0,0.0,...|\n",
            "| 39|blue-collar|divorced|         basic.9y|     no|    yes|  no| cellular|  may|        fri|     191|       1|  999|       0|nonexistent|        -1.8|        92.893|        -46.2|    1.313|     5099.1|  0|  1.0|      2.0|        2.0|      0.0|      0.0|   0.0|      0.0|    0.0|          4.0|       0.0|  [191.0,999.0,0.0,...|\n",
            "| 36|     admin.| married|university.degree|     no|     no|  no| cellular|  jun|        mon|     174|       1|    3|       1|    success|        -2.9|        92.963|        -40.8|    1.266|     5076.2|  1|  0.0|      0.0|        0.0|      0.0|      1.0|   0.0|      0.0|    3.0|          1.0|       2.0|  [174.0,3.0,1.0,-2...|\n",
            "| 27|blue-collar|  single|         basic.4y|     no|    yes|  no| cellular|  apr|        thu|     191|       2|  999|       1|    failure|        -1.8|        93.075|        -47.1|     1.41|     5099.1|  0|  1.0|      1.0|        4.0|      0.0|      0.0|   0.0|      0.0|    5.0|          0.0|       1.0|  [191.0,999.0,1.0,...|\n",
            "| 34|  housemaid|  single|university.degree|     no|     no|  no|telephone|  may|        fri|      62|       2|  999|       0|nonexistent|         1.1|        93.994|        -36.4|    4.864|     5191.0|  0|  8.0|      1.0|        0.0|      0.0|      1.0|   0.0|      1.0|    0.0|          4.0|       0.0|  [62.0,999.0,0.0,1...|\n",
            "| 41| management| married|university.degree|     no|    yes|  no| cellular|  aug|        thu|     789|       1|  999|       0|nonexistent|         1.4|        93.444|        -36.1|    4.964|     5228.1|  0|  4.0|      0.0|        0.0|      0.0|      0.0|   0.0|      0.0|    2.0|          0.0|       0.0|  [789.0,999.0,0.0,...|\n",
            "| 55| management| married|university.degree|     no|     no|  no| cellular|  aug|        mon|     372|       3|  999|       0|nonexistent|         1.4|        93.444|        -36.1|    4.965|     5228.1|  1|  4.0|      0.0|        0.0|      0.0|      1.0|   0.0|      0.0|    2.0|          1.0|       0.0|  [372.0,999.0,0.0,...|\n",
            "| 33|   services|divorced|      high.school|     no|    yes|  no| cellular|  may|        tue|      75|       5|  999|       0|nonexistent|        -1.8|        92.893|        -46.2|    1.291|     5099.1|  0|  3.0|      2.0|        1.0|      0.0|      0.0|   0.0|      0.0|    0.0|          3.0|       0.0|  [75.0,999.0,0.0,-...|\n",
            "| 26|     admin.| married|      high.school|     no|     no| yes|telephone|  jun|        mon|    1021|       1|  999|       0|nonexistent|         1.4|        94.465|        -41.8|     4.96|     5228.1|  0|  0.0|      0.0|        1.0|      0.0|      1.0|   1.0|      1.0|    3.0|          1.0|       0.0|  [1021.0,999.0,0.0...|\n",
            "| 52|   services| married|      high.school|unknown|    yes|  no| cellular|  jul|        thu|     117|       2|  999|       0|nonexistent|         1.4|        93.918|        -42.7|    4.962|     5228.1|  0|  3.0|      0.0|        1.0|      1.0|      0.0|   0.0|      0.0|    1.0|          0.0|       0.0|  [117.0,999.0,0.0,...|\n",
            "| 35|   services| married|      high.school|     no|     no|  no| cellular|  apr|        thu|    1034|       2|  999|       0|nonexistent|        -1.8|        93.075|        -47.1|    1.365|     5099.1|  1|  3.0|      0.0|        1.0|      0.0|      1.0|   0.0|      0.0|    5.0|          0.0|       0.0|  [1034.0,999.0,0.0...|\n",
            "| 27|     admin.|  single|university.degree|     no|     no|  no|telephone|  oct|        tue|     540|       1|  999|       0|nonexistent|        -0.1|        93.798|        -40.4|     4.86|     5195.8|  1|  0.0|      1.0|        0.0|      0.0|      1.0|   0.0|      1.0|    6.0|          3.0|       0.0|  [540.0,999.0,0.0,...|\n",
            "| 28|blue-collar| married|         basic.9y|unknown|     no|  no|telephone|  may|        thu|     140|       1|  999|       0|nonexistent|         1.1|        93.994|        -36.4|     4.86|     5191.0|  0|  1.0|      0.0|        2.0|      1.0|      1.0|   0.0|      1.0|    0.0|          0.0|       0.0|  [140.0,999.0,0.0,...|\n",
            "| 26| unemployed|  single|         basic.9y|     no|    yes| yes| cellular|  jul|        mon|     104|       4|  999|       0|nonexistent|         1.4|        93.918|        -42.7|     4.96|     5228.1|  0|  9.0|      1.0|        2.0|      0.0|      0.0|   1.0|      0.0|    1.0|          1.0|       0.0|  [104.0,999.0,0.0,...|\n",
            "+---+-----------+--------+-----------------+-------+-------+----+---------+-----+-----------+--------+--------+-----+--------+-----------+------------+--------------+-------------+---------+-----------+---+-----+---------+-----------+---------+---------+------+---------+-------+-------------+----------+----------------------+\n",
            "only showing top 20 rows\n",
            "\n"
          ]
        }
      ]
    },
    {
      "cell_type": "markdown",
      "source": [
        "StandardScaler"
      ],
      "metadata": {
        "id": "C9OMobWNkitr"
      }
    },
    {
      "cell_type": "code",
      "source": [
        "from pyspark.ml.feature import StandardScaler\n",
        "\n",
        "# ستونی که باید استانداردسازی شود\n",
        "inputCol = \"assembled_features_new\"\n",
        "\n",
        "# نام ستونی که در خروجی StandardScaler قرار می‌گیرد\n",
        "outputCol = \"standard_features\"\n",
        "\n",
        "# ساخت یک شی از کلاس StandardScaler\n",
        "scaler = StandardScaler(inputCol=inputCol, outputCol=outputCol)\n",
        "\n",
        "# تبدیل داده‌های ورودی به فرمت استاندارد شده\n",
        "scalerModel = scaler.fit(bank_copy)\n",
        "bank_copy = scalerModel.transform(bank_copy)\n",
        "\n",
        "# نمایش دیتافریم جدید\n",
        "bank_copy.show()"
      ],
      "metadata": {
        "id": "3bTo8XAxkaeO",
        "colab": {
          "base_uri": "https://localhost:8080/"
        },
        "outputId": "199a05f9-5738-4ed4-ca32-8c1c6e04229c"
      },
      "execution_count": 14,
      "outputs": [
        {
          "output_type": "stream",
          "name": "stdout",
          "text": [
            "+---+-----------+--------+-----------------+-------+-------+----+---------+-----+-----------+--------+--------+-----+--------+-----------+------------+--------------+-------------+---------+-----------+---+-----+---------+-----------+---------+---------+------+---------+-------+-------------+----------+----------------------+--------------------+\n",
            "|age|        job| marital|        education|default|housing|loan|  contact|month|day_of_week|duration|campaign|pdays|previous|   poutcome|emp_var_rate|cons_price_idx|cons_conf_idx|euribor3m|nr_employed|  y|job_N|marital_N|education_N|default_N|housing_N|loan_N|contact_N|month_N|day_of_week_N|poutcome_N|assembled_features_new|   standard_features|\n",
            "+---+-----------+--------+-----------------+-------+-------+----+---------+-----+-----------+--------+--------+-----+--------+-----------+------------+--------------+-------------+---------+-----------+---+-----+---------+-----------+---------+---------+------+---------+-------+-------------+----------+----------------------+--------------------+\n",
            "| 44|blue-collar| married|         basic.4y|unknown|    yes|  no| cellular|  aug|        thu|     210|       1|  999|       0|nonexistent|         1.4|        93.444|        -36.1|    4.963|     5228.1|  0|  1.0|      0.0|        4.0|      1.0|      0.0|   0.0|      0.0|    2.0|          0.0|       0.0|  [210.0,999.0,0.0,...|[0.80993755166443...|\n",
            "| 53| technician| married|          unknown|     no|     no|  no| cellular|  nov|        fri|     138|       1|  999|       0|nonexistent|        -0.1|          93.2|        -42.0|    4.021|     5195.8|  0|  2.0|      0.0|        6.0|      0.0|      1.0|   0.0|      0.0|    4.0|          4.0|       0.0|  [138.0,999.0,0.0,...|[0.53224467680805...|\n",
            "| 28| management|  single|university.degree|     no|    yes|  no| cellular|  jun|        thu|     339|       3|    6|       2|    success|        -1.7|        94.055|        -39.8|    0.729|     4991.6|  1|  4.0|      1.0|        0.0|      0.0|      0.0|   0.0|      0.0|    3.0|          0.0|       2.0|  [339.0,6.0,2.0,-1...|[1.30747061911544...|\n",
            "| 39|   services| married|      high.school|     no|     no|  no| cellular|  apr|        fri|     185|       2|  999|       0|nonexistent|        -1.8|        93.075|        -47.1|    1.405|     5099.1|  0|  3.0|      0.0|        1.0|      0.0|      1.0|   0.0|      0.0|    5.0|          4.0|       0.0|  [185.0,999.0,0.0,...|[0.71351641456152...|\n",
            "| 55|    retired| married|         basic.4y|     no|    yes|  no| cellular|  aug|        fri|     137|       1|    3|       1|    success|        -2.9|        92.201|        -31.4|    0.869|     5076.2|  1|  5.0|      0.0|        4.0|      0.0|      0.0|   0.0|      0.0|    2.0|          4.0|       2.0|  [137.0,3.0,1.0,-2...|[0.52838783132394...|\n",
            "| 30| management|divorced|         basic.4y|     no|    yes|  no| cellular|  jul|        tue|      68|       8|  999|       0|nonexistent|         1.4|        93.918|        -42.7|    4.961|     5228.1|  0|  4.0|      2.0|        4.0|      0.0|      0.0|   0.0|      0.0|    1.0|          3.0|       0.0|  [68.0,999.0,0.0,1...|[0.26226549291991...|\n",
            "| 37|blue-collar| married|         basic.4y|     no|    yes|  no| cellular|  may|        thu|     204|       1|  999|       0|nonexistent|        -1.8|        92.893|        -46.2|    1.327|     5099.1|  0|  1.0|      0.0|        4.0|      0.0|      0.0|   0.0|      0.0|    0.0|          0.0|       0.0|  [204.0,999.0,0.0,...|[0.78679647875973...|\n",
            "| 39|blue-collar|divorced|         basic.9y|     no|    yes|  no| cellular|  may|        fri|     191|       1|  999|       0|nonexistent|        -1.8|        92.893|        -46.2|    1.313|     5099.1|  0|  1.0|      2.0|        2.0|      0.0|      0.0|   0.0|      0.0|    0.0|          4.0|       0.0|  [191.0,999.0,0.0,...|[0.73665748746622...|\n",
            "| 36|     admin.| married|university.degree|     no|     no|  no| cellular|  jun|        mon|     174|       1|    3|       1|    success|        -2.9|        92.963|        -40.8|    1.266|     5076.2|  1|  0.0|      0.0|        0.0|      0.0|      1.0|   0.0|      0.0|    3.0|          1.0|       2.0|  [174.0,3.0,1.0,-2...|[0.67109111423624...|\n",
            "| 27|blue-collar|  single|         basic.4y|     no|    yes|  no| cellular|  apr|        thu|     191|       2|  999|       1|    failure|        -1.8|        93.075|        -47.1|     1.41|     5099.1|  0|  1.0|      1.0|        4.0|      0.0|      0.0|   0.0|      0.0|    5.0|          0.0|       1.0|  [191.0,999.0,1.0,...|[0.73665748746622...|\n",
            "| 34|  housemaid|  single|university.degree|     no|     no|  no|telephone|  may|        fri|      62|       2|  999|       0|nonexistent|         1.1|        93.994|        -36.4|    4.864|     5191.0|  0|  8.0|      1.0|        0.0|      0.0|      1.0|   0.0|      1.0|    0.0|          4.0|       0.0|  [62.0,999.0,0.0,1...|[0.23912442001521...|\n",
            "| 41| management| married|university.degree|     no|    yes|  no| cellular|  aug|        thu|     789|       1|  999|       0|nonexistent|         1.4|        93.444|        -36.1|    4.964|     5228.1|  0|  4.0|      0.0|        0.0|      0.0|      0.0|   0.0|      0.0|    2.0|          0.0|       0.0|  [789.0,999.0,0.0,...|[3.04305108696780...|\n",
            "| 55| management| married|university.degree|     no|     no|  no| cellular|  aug|        mon|     372|       3|  999|       0|nonexistent|         1.4|        93.444|        -36.1|    4.965|     5228.1|  1|  4.0|      0.0|        0.0|      0.0|      1.0|   0.0|      0.0|    2.0|          1.0|       0.0|  [372.0,999.0,0.0,...|[1.43474652009128...|\n",
            "| 33|   services|divorced|      high.school|     no|    yes|  no| cellular|  may|        tue|      75|       5|  999|       0|nonexistent|        -1.8|        92.893|        -46.2|    1.291|     5099.1|  0|  3.0|      2.0|        1.0|      0.0|      0.0|   0.0|      0.0|    0.0|          3.0|       0.0|  [75.0,999.0,0.0,-...|[0.28926341130872...|\n",
            "| 26|     admin.| married|      high.school|     no|     no| yes|telephone|  jun|        mon|    1021|       1|  999|       0|nonexistent|         1.4|        94.465|        -41.8|     4.96|     5228.1|  0|  0.0|      0.0|        1.0|      0.0|      1.0|   1.0|      1.0|    3.0|          1.0|       0.0|  [1021.0,999.0,0.0...|[3.93783923928279...|\n",
            "| 52|   services| married|      high.school|unknown|    yes|  no| cellular|  jul|        thu|     117|       2|  999|       0|nonexistent|         1.4|        93.918|        -42.7|    4.962|     5228.1|  0|  3.0|      0.0|        1.0|      1.0|      0.0|   0.0|      0.0|    1.0|          0.0|       0.0|  [117.0,999.0,0.0,...|[0.45125092164161...|\n",
            "| 35|   services| married|      high.school|     no|     no|  no| cellular|  apr|        thu|    1034|       2|  999|       0|nonexistent|        -1.8|        93.075|        -47.1|    1.365|     5099.1|  1|  3.0|      0.0|        1.0|      0.0|      1.0|   0.0|      0.0|    5.0|          0.0|       0.0|  [1034.0,999.0,0.0...|[3.98797823057630...|\n",
            "| 27|     admin.|  single|university.degree|     no|     no|  no|telephone|  oct|        tue|     540|       1|  999|       0|nonexistent|        -0.1|        93.798|        -40.4|     4.86|     5195.8|  1|  0.0|      1.0|        0.0|      0.0|      1.0|   0.0|      1.0|    6.0|          3.0|       0.0|  [540.0,999.0,0.0,...|[2.08269656142282...|\n",
            "| 28|blue-collar| married|         basic.9y|unknown|     no|  no|telephone|  may|        thu|     140|       1|  999|       0|nonexistent|         1.1|        93.994|        -36.4|     4.86|     5191.0|  0|  1.0|      0.0|        2.0|      1.0|      1.0|   0.0|      1.0|    0.0|          0.0|       0.0|  [140.0,999.0,0.0,...|[0.53995836777628...|\n",
            "| 26| unemployed|  single|         basic.9y|     no|    yes| yes| cellular|  jul|        mon|     104|       4|  999|       0|nonexistent|         1.4|        93.918|        -42.7|     4.96|     5228.1|  0|  9.0|      1.0|        2.0|      0.0|      0.0|   1.0|      0.0|    1.0|          1.0|       0.0|  [104.0,999.0,0.0,...|[0.40111193034810...|\n",
            "+---+-----------+--------+-----------------+-------+-------+----+---------+-----+-----------+--------+--------+-----+--------+-----------+------------+--------------+-------------+---------+-----------+---+-----+---------+-----------+---------+---------+------+---------+-------+-------------+----------+----------------------+--------------------+\n",
            "only showing top 20 rows\n",
            "\n"
          ]
        }
      ]
    },
    {
      "cell_type": "markdown",
      "source": [
        "LogisticRegression"
      ],
      "metadata": {
        "id": "A_Xm6OBlWVzW"
      }
    },
    {
      "cell_type": "code",
      "source": [
        "from pyspark.ml.classification import LogisticRegression\n",
        "from pyspark.ml.linalg import Vectors\n",
        "from pyspark.ml.feature import VectorAssembler\n",
        "from pyspark.ml.evaluation import BinaryClassificationEvaluator\n",
        "\n",
        "train_data, test_data =bank_copy.randomSplit([0.8, 0.2], seed=100)\n",
        "accuracy=0\n",
        "Recall=0\n",
        "Precision=0\n",
        "F_Measure=0\n",
        "n=10\n",
        "for i in range(n):\n",
        "  lr = LogisticRegression(labelCol=\"y\", featuresCol=\"standard_features\")\n",
        "  lrModel = lr.fit(train_data)\n",
        "  predictions = lrModel.transform(test_data)\n",
        "  #predictions.show()\n",
        "  evaluator = BinaryClassificationEvaluator(labelCol=\"y\",rawPredictionCol=\"rawPrediction\")\n",
        "  predictions = lrModel.transform(test_data)\n",
        "  predictions.groupBy('y', 'prediction').count().show()\n",
        "  TN = predictions.filter('prediction = 0 AND y = prediction').count()\n",
        "  TP = predictions.filter('prediction = 1 AND y = prediction').count()\n",
        "  FN = predictions.filter('prediction = 0 AND y = 1').count()\n",
        "  FP = predictions.filter('prediction = 1 AND y = 0').count()\n",
        "  accuracy =accuracy+ (TN + TP) / (TN + TP + FN + FP)\n",
        "  Precision =Precision+ TP/(TP+FP)\n",
        "  Recall =Recall+ TP/(TP+FN)\n",
        "  F_Measure=F_Measure+(2*Precision*Recall)/(Precision+Recall)\n",
        "\n",
        "\n",
        "print(\"Accuracy:\", accuracy / n)\n",
        "print(\"Precision:\", Precision/n)\n",
        "print(\"Recall:\", Recall / n)\n",
        "print(\"F-measure:\", F_Measure / n)"
      ],
      "metadata": {
        "id": "F8b9z1UhklAA",
        "colab": {
          "base_uri": "https://localhost:8080/"
        },
        "outputId": "697991d7-c412-42fe-96b2-e90b5110e432"
      },
      "execution_count": 16,
      "outputs": [
        {
          "output_type": "stream",
          "name": "stdout",
          "text": [
            "+---+----------+-----+\n",
            "|  y|prediction|count|\n",
            "+---+----------+-----+\n",
            "|  1|       0.0|  519|\n",
            "|  0|       0.0| 7128|\n",
            "|  1|       1.0|  373|\n",
            "|  0|       1.0|  200|\n",
            "+---+----------+-----+\n",
            "\n",
            "+---+----------+-----+\n",
            "|  y|prediction|count|\n",
            "+---+----------+-----+\n",
            "|  1|       0.0|  519|\n",
            "|  0|       0.0| 7128|\n",
            "|  1|       1.0|  373|\n",
            "|  0|       1.0|  200|\n",
            "+---+----------+-----+\n",
            "\n",
            "+---+----------+-----+\n",
            "|  y|prediction|count|\n",
            "+---+----------+-----+\n",
            "|  1|       0.0|  519|\n",
            "|  0|       0.0| 7128|\n",
            "|  1|       1.0|  373|\n",
            "|  0|       1.0|  200|\n",
            "+---+----------+-----+\n",
            "\n",
            "+---+----------+-----+\n",
            "|  y|prediction|count|\n",
            "+---+----------+-----+\n",
            "|  1|       0.0|  519|\n",
            "|  0|       0.0| 7128|\n",
            "|  1|       1.0|  373|\n",
            "|  0|       1.0|  200|\n",
            "+---+----------+-----+\n",
            "\n",
            "+---+----------+-----+\n",
            "|  y|prediction|count|\n",
            "+---+----------+-----+\n",
            "|  1|       0.0|  519|\n",
            "|  0|       0.0| 7128|\n",
            "|  1|       1.0|  373|\n",
            "|  0|       1.0|  200|\n",
            "+---+----------+-----+\n",
            "\n",
            "+---+----------+-----+\n",
            "|  y|prediction|count|\n",
            "+---+----------+-----+\n",
            "|  1|       0.0|  519|\n",
            "|  0|       0.0| 7128|\n",
            "|  1|       1.0|  373|\n",
            "|  0|       1.0|  200|\n",
            "+---+----------+-----+\n",
            "\n",
            "+---+----------+-----+\n",
            "|  y|prediction|count|\n",
            "+---+----------+-----+\n",
            "|  1|       0.0|  519|\n",
            "|  0|       0.0| 7128|\n",
            "|  1|       1.0|  373|\n",
            "|  0|       1.0|  200|\n",
            "+---+----------+-----+\n",
            "\n",
            "+---+----------+-----+\n",
            "|  y|prediction|count|\n",
            "+---+----------+-----+\n",
            "|  1|       0.0|  519|\n",
            "|  0|       0.0| 7128|\n",
            "|  1|       1.0|  373|\n",
            "|  0|       1.0|  200|\n",
            "+---+----------+-----+\n",
            "\n",
            "+---+----------+-----+\n",
            "|  y|prediction|count|\n",
            "+---+----------+-----+\n",
            "|  1|       0.0|  519|\n",
            "|  0|       0.0| 7128|\n",
            "|  1|       1.0|  373|\n",
            "|  0|       1.0|  200|\n",
            "+---+----------+-----+\n",
            "\n",
            "+---+----------+-----+\n",
            "|  y|prediction|count|\n",
            "+---+----------+-----+\n",
            "|  1|       0.0|  519|\n",
            "|  0|       0.0| 7128|\n",
            "|  1|       1.0|  373|\n",
            "|  0|       1.0|  200|\n",
            "+---+----------+-----+\n",
            "\n",
            "Accuracy: 0.9125304136253043\n",
            "Precision: 0.650959860383944\n",
            "Recall: 0.4181614349775785\n",
            "F-measure: 2.8006825938566555\n"
          ]
        }
      ]
    },
    {
      "cell_type": "markdown",
      "source": [
        "LinearSVC"
      ],
      "metadata": {
        "id": "83pTRlhum5Ma"
      }
    },
    {
      "cell_type": "markdown",
      "source": [
        "در اینجا، ۱۰ بار اجرای مدل را در نظر گرفته‌ایم"
      ],
      "metadata": {
        "id": "gH12nfKAp_Lu"
      }
    },
    {
      "cell_type": "code",
      "source": [
        "from pyspark.ml.classification import LinearSVC\n",
        "from pyspark.ml.evaluation import BinaryClassificationEvaluator\n",
        "\n",
        "train_data, test_data = bank_copy.randomSplit([0.8, 0.2], seed=10)\n",
        "\n",
        "accuracy = 0\n",
        "recall = 0\n",
        "precision = 0\n",
        "f_measure = 0\n",
        "n = 10\n",
        "\n",
        "for i in range(n):\n",
        "    # ایجاد یک شی از کلاس LinearSVC\n",
        "    lsvc = LinearSVC(labelCol=\"y\", featuresCol=\"standard_features\", maxIter=10)\n",
        "\n",
        "    # آموزش مدل با داده‌های آموزشی\n",
        "    lsvcModel = lsvc.fit(train_data)\n",
        "\n",
        "    # اعمال مدل بر داده‌های تست\n",
        "    predictions = lsvcModel.transform(test_data)\n",
        "\n",
        "    # محاسبه معیارات ارزیابی\n",
        "    evaluator = BinaryClassificationEvaluator(labelCol=\"y\", rawPredictionCol=\"rawPrediction\")\n",
        "    tn = predictions.filter('prediction = 0 AND y = prediction').count()\n",
        "    tp = predictions.filter('prediction = 1 AND y = prediction').count()\n",
        "    fn = predictions.filter('prediction = 0 AND y = 1').count()\n",
        "    fp = predictions.filter('prediction = 1 AND y = 0').count()\n",
        "    accuracy += (tn + tp) / (tn + tp + fn + fp)\n",
        "    precision += tp / (tp + fp)\n",
        "    recall += tp / (tp + fn)\n",
        "    f_measure += (2 * precision * recall) / (precision + recall)\n",
        "\n",
        "print(\"Accuracy:\", accuracy / n)\n",
        "print(\"Precision:\", precision / n)\n",
        "print(\"Recall:\", recall / n)\n",
        "print(\"F-measure:\", f_measure / n)\n"
      ],
      "metadata": {
        "id": "JDuhVBL4nj6h",
        "colab": {
          "base_uri": "https://localhost:8080/"
        },
        "outputId": "f3eedd6f-9243-4127-f504-7d2786a1c470"
      },
      "execution_count": 18,
      "outputs": [
        {
          "output_type": "stream",
          "name": "stdout",
          "text": [
            "Accuracy: 0.9037019114444715\n",
            "Precision: 0.6059322033898306\n",
            "Recall: 0.3191964285714285\n",
            "F-measure: 2.299707602339181\n"
          ]
        }
      ]
    },
    {
      "cell_type": "markdown",
      "source": [
        "\n",
        " "
      ],
      "metadata": {
        "id": "LfqLf7aNrLfl"
      }
    }
  ]
}